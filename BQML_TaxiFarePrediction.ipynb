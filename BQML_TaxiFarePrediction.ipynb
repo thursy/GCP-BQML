{
  "nbformat": 4,
  "nbformat_minor": 0,
  "metadata": {
    "colab": {
      "name": "BQML-TaxiFarePrediction.ipynb",
      "provenance": [],
      "authorship_tag": "ABX9TyPPC0JqPVpgU/uVMDEY2FYB",
      "include_colab_link": true
    },
    "kernelspec": {
      "name": "python3",
      "display_name": "Python 3"
    }
  },
  "cells": [
    {
      "cell_type": "markdown",
      "metadata": {
        "id": "view-in-github",
        "colab_type": "text"
      },
      "source": [
        "<a href=\"https://colab.research.google.com/github/thursy/GCP-BQML/blob/master/BQML_TaxiFarePrediction.ipynb\" target=\"_parent\"><img src=\"https://colab.research.google.com/assets/colab-badge.svg\" alt=\"Open In Colab\"/></a>"
      ]
    },
    {
      "cell_type": "markdown",
      "metadata": {
        "id": "rMK38tW11kEz",
        "colab_type": "text"
      },
      "source": [
        "# BigQuery Machine Learning - Predict Taxi Fare with a BigQuery ML Forecasting Model\n"
      ]
    },
    {
      "cell_type": "markdown",
      "metadata": {
        "id": "NAEQ10Ha1hg6",
        "colab_type": "text"
      },
      "source": [
        "Predict Taxi Fare with a BigQuery ML Forecasting Model\n",
        "After making a project and enable the API, here are the steps to do Machine Learning using BigQuery\n",
        "\n",
        "* Step one: Use BigQuery to find public datasets.\n",
        "* Step two: Query and explore the public taxi cab dataset.\n",
        "* Step three: Create a training and evaluation dataset to be used * for batch prediction.\n",
        "* Step four: Create a forecasting (linear regression) model in BQML.\n",
        "* Step five: Evaluate the performance of your machine learning model.\n",
        "* Step six: Predict taxi fare amount.\n",
        "* Step seven: Improving the model with Feature Engineering\n"
      ]
    },
    {
      "cell_type": "markdown",
      "metadata": {
        "id": "fdm6HTS-2T5C",
        "colab_type": "text"
      },
      "source": [
        "###In case using Google Colab, user Authentication is needed by running the code below"
      ]
    },
    {
      "cell_type": "code",
      "metadata": {
        "id": "xOtjC6re2UO1",
        "colab_type": "code",
        "colab": {}
      },
      "source": [
        "from google.colab import auth\n",
        "auth.authenticate_user()"
      ],
      "execution_count": 0,
      "outputs": []
    },
    {
      "cell_type": "markdown",
      "metadata": {
        "id": "J9EZDoDd132e",
        "colab_type": "text"
      },
      "source": [
        "##Query and explore the public taxi cab dataset.\n"
      ]
    },
    {
      "cell_type": "code",
      "metadata": {
        "id": "MmlQRdaI1hx8",
        "colab_type": "code",
        "colab": {
          "base_uri": "https://localhost:8080/",
          "height": 421
        },
        "outputId": "f493f269-b568-4e89-eb7d-dc4be79cb285"
      },
      "source": [
        "%%bigquery --project tutorial-medium-2020\n",
        "SELECT\n",
        "  TIMESTAMP_TRUNC(pickup_datetime,\n",
        "    MONTH) month,\n",
        "  COUNT(*) trips\n",
        "FROM\n",
        "  `bigquery-public-data.new_york.tlc_yellow_trips_2015`\n",
        "GROUP BY\n",
        "  1\n",
        "ORDER BY\n",
        "  1"
      ],
      "execution_count": 5,
      "outputs": [
        {
          "output_type": "execute_result",
          "data": {
            "text/html": [
              "<div>\n",
              "<style scoped>\n",
              "    .dataframe tbody tr th:only-of-type {\n",
              "        vertical-align: middle;\n",
              "    }\n",
              "\n",
              "    .dataframe tbody tr th {\n",
              "        vertical-align: top;\n",
              "    }\n",
              "\n",
              "    .dataframe thead th {\n",
              "        text-align: right;\n",
              "    }\n",
              "</style>\n",
              "<table border=\"1\" class=\"dataframe\">\n",
              "  <thead>\n",
              "    <tr style=\"text-align: right;\">\n",
              "      <th></th>\n",
              "      <th>month</th>\n",
              "      <th>trips</th>\n",
              "    </tr>\n",
              "  </thead>\n",
              "  <tbody>\n",
              "    <tr>\n",
              "      <th>0</th>\n",
              "      <td>2015-01-01 00:00:00+00:00</td>\n",
              "      <td>12748986</td>\n",
              "    </tr>\n",
              "    <tr>\n",
              "      <th>1</th>\n",
              "      <td>2015-02-01 00:00:00+00:00</td>\n",
              "      <td>12450521</td>\n",
              "    </tr>\n",
              "    <tr>\n",
              "      <th>2</th>\n",
              "      <td>2015-03-01 00:00:00+00:00</td>\n",
              "      <td>13351609</td>\n",
              "    </tr>\n",
              "    <tr>\n",
              "      <th>3</th>\n",
              "      <td>2015-04-01 00:00:00+00:00</td>\n",
              "      <td>13071789</td>\n",
              "    </tr>\n",
              "    <tr>\n",
              "      <th>4</th>\n",
              "      <td>2015-05-01 00:00:00+00:00</td>\n",
              "      <td>13158262</td>\n",
              "    </tr>\n",
              "    <tr>\n",
              "      <th>5</th>\n",
              "      <td>2015-06-01 00:00:00+00:00</td>\n",
              "      <td>12324935</td>\n",
              "    </tr>\n",
              "    <tr>\n",
              "      <th>6</th>\n",
              "      <td>2015-07-01 00:00:00+00:00</td>\n",
              "      <td>11562783</td>\n",
              "    </tr>\n",
              "    <tr>\n",
              "      <th>7</th>\n",
              "      <td>2015-08-01 00:00:00+00:00</td>\n",
              "      <td>11130304</td>\n",
              "    </tr>\n",
              "    <tr>\n",
              "      <th>8</th>\n",
              "      <td>2015-09-01 00:00:00+00:00</td>\n",
              "      <td>11225063</td>\n",
              "    </tr>\n",
              "    <tr>\n",
              "      <th>9</th>\n",
              "      <td>2015-10-01 00:00:00+00:00</td>\n",
              "      <td>12315488</td>\n",
              "    </tr>\n",
              "    <tr>\n",
              "      <th>10</th>\n",
              "      <td>2015-11-01 00:00:00+00:00</td>\n",
              "      <td>11312676</td>\n",
              "    </tr>\n",
              "    <tr>\n",
              "      <th>11</th>\n",
              "      <td>2015-12-01 00:00:00+00:00</td>\n",
              "      <td>11460573</td>\n",
              "    </tr>\n",
              "  </tbody>\n",
              "</table>\n",
              "</div>"
            ],
            "text/plain": [
              "                       month     trips\n",
              "0  2015-01-01 00:00:00+00:00  12748986\n",
              "1  2015-02-01 00:00:00+00:00  12450521\n",
              "2  2015-03-01 00:00:00+00:00  13351609\n",
              "3  2015-04-01 00:00:00+00:00  13071789\n",
              "4  2015-05-01 00:00:00+00:00  13158262\n",
              "5  2015-06-01 00:00:00+00:00  12324935\n",
              "6  2015-07-01 00:00:00+00:00  11562783\n",
              "7  2015-08-01 00:00:00+00:00  11130304\n",
              "8  2015-09-01 00:00:00+00:00  11225063\n",
              "9  2015-10-01 00:00:00+00:00  12315488\n",
              "10 2015-11-01 00:00:00+00:00  11312676\n",
              "11 2015-12-01 00:00:00+00:00  11460573"
            ]
          },
          "metadata": {
            "tags": []
          },
          "execution_count": 5
        }
      ]
    },
    {
      "cell_type": "code",
      "metadata": {
        "id": "kStqJPLJ1iQM",
        "colab_type": "code",
        "colab": {
          "base_uri": "https://localhost:8080/",
          "height": 793
        },
        "outputId": "05285066-9fe1-4a29-8010-832c4037d254"
      },
      "source": [
        "%%bigquery --project tutorial-medium-2020\n",
        "SELECT\n",
        "  EXTRACT(HOUR\n",
        "  FROM\n",
        "    pickup_datetime) hour,\n",
        "  ROUND(AVG(trip_distance / TIMESTAMP_DIFF(dropoff_datetime,\n",
        "        pickup_datetime,\n",
        "        SECOND))*3600, 1) speed\n",
        "FROM\n",
        "  `bigquery-public-data.new_york.tlc_yellow_trips_2015`\n",
        "WHERE\n",
        "  trip_distance > 0\n",
        "  AND fare_amount/trip_distance BETWEEN 2\n",
        "  AND 10\n",
        "  AND dropoff_datetime > pickup_datetime\n",
        "GROUP BY\n",
        "  1\n",
        "ORDER BY\n",
        "  1\n"
      ],
      "execution_count": 6,
      "outputs": [
        {
          "output_type": "execute_result",
          "data": {
            "text/html": [
              "<div>\n",
              "<style scoped>\n",
              "    .dataframe tbody tr th:only-of-type {\n",
              "        vertical-align: middle;\n",
              "    }\n",
              "\n",
              "    .dataframe tbody tr th {\n",
              "        vertical-align: top;\n",
              "    }\n",
              "\n",
              "    .dataframe thead th {\n",
              "        text-align: right;\n",
              "    }\n",
              "</style>\n",
              "<table border=\"1\" class=\"dataframe\">\n",
              "  <thead>\n",
              "    <tr style=\"text-align: right;\">\n",
              "      <th></th>\n",
              "      <th>hour</th>\n",
              "      <th>speed</th>\n",
              "    </tr>\n",
              "  </thead>\n",
              "  <tbody>\n",
              "    <tr>\n",
              "      <th>0</th>\n",
              "      <td>0</td>\n",
              "      <td>15.8</td>\n",
              "    </tr>\n",
              "    <tr>\n",
              "      <th>1</th>\n",
              "      <td>1</td>\n",
              "      <td>16.3</td>\n",
              "    </tr>\n",
              "    <tr>\n",
              "      <th>2</th>\n",
              "      <td>2</td>\n",
              "      <td>16.8</td>\n",
              "    </tr>\n",
              "    <tr>\n",
              "      <th>3</th>\n",
              "      <td>3</td>\n",
              "      <td>17.5</td>\n",
              "    </tr>\n",
              "    <tr>\n",
              "      <th>4</th>\n",
              "      <td>4</td>\n",
              "      <td>20.0</td>\n",
              "    </tr>\n",
              "    <tr>\n",
              "      <th>5</th>\n",
              "      <td>5</td>\n",
              "      <td>21.6</td>\n",
              "    </tr>\n",
              "    <tr>\n",
              "      <th>6</th>\n",
              "      <td>6</td>\n",
              "      <td>17.6</td>\n",
              "    </tr>\n",
              "    <tr>\n",
              "      <th>7</th>\n",
              "      <td>7</td>\n",
              "      <td>13.7</td>\n",
              "    </tr>\n",
              "    <tr>\n",
              "      <th>8</th>\n",
              "      <td>8</td>\n",
              "      <td>11.6</td>\n",
              "    </tr>\n",
              "    <tr>\n",
              "      <th>9</th>\n",
              "      <td>9</td>\n",
              "      <td>11.4</td>\n",
              "    </tr>\n",
              "    <tr>\n",
              "      <th>10</th>\n",
              "      <td>10</td>\n",
              "      <td>11.5</td>\n",
              "    </tr>\n",
              "    <tr>\n",
              "      <th>11</th>\n",
              "      <td>11</td>\n",
              "      <td>11.3</td>\n",
              "    </tr>\n",
              "    <tr>\n",
              "      <th>12</th>\n",
              "      <td>12</td>\n",
              "      <td>11.2</td>\n",
              "    </tr>\n",
              "    <tr>\n",
              "      <th>13</th>\n",
              "      <td>13</td>\n",
              "      <td>11.3</td>\n",
              "    </tr>\n",
              "    <tr>\n",
              "      <th>14</th>\n",
              "      <td>14</td>\n",
              "      <td>11.2</td>\n",
              "    </tr>\n",
              "    <tr>\n",
              "      <th>15</th>\n",
              "      <td>15</td>\n",
              "      <td>11.0</td>\n",
              "    </tr>\n",
              "    <tr>\n",
              "      <th>16</th>\n",
              "      <td>16</td>\n",
              "      <td>11.5</td>\n",
              "    </tr>\n",
              "    <tr>\n",
              "      <th>17</th>\n",
              "      <td>17</td>\n",
              "      <td>11.2</td>\n",
              "    </tr>\n",
              "    <tr>\n",
              "      <th>18</th>\n",
              "      <td>18</td>\n",
              "      <td>11.1</td>\n",
              "    </tr>\n",
              "    <tr>\n",
              "      <th>19</th>\n",
              "      <td>19</td>\n",
              "      <td>11.8</td>\n",
              "    </tr>\n",
              "    <tr>\n",
              "      <th>20</th>\n",
              "      <td>20</td>\n",
              "      <td>12.9</td>\n",
              "    </tr>\n",
              "    <tr>\n",
              "      <th>21</th>\n",
              "      <td>21</td>\n",
              "      <td>13.6</td>\n",
              "    </tr>\n",
              "    <tr>\n",
              "      <th>22</th>\n",
              "      <td>22</td>\n",
              "      <td>14.1</td>\n",
              "    </tr>\n",
              "    <tr>\n",
              "      <th>23</th>\n",
              "      <td>23</td>\n",
              "      <td>14.9</td>\n",
              "    </tr>\n",
              "  </tbody>\n",
              "</table>\n",
              "</div>"
            ],
            "text/plain": [
              "    hour  speed\n",
              "0      0   15.8\n",
              "1      1   16.3\n",
              "2      2   16.8\n",
              "3      3   17.5\n",
              "4      4   20.0\n",
              "5      5   21.6\n",
              "6      6   17.6\n",
              "7      7   13.7\n",
              "8      8   11.6\n",
              "9      9   11.4\n",
              "10    10   11.5\n",
              "11    11   11.3\n",
              "12    12   11.2\n",
              "13    13   11.3\n",
              "14    14   11.2\n",
              "15    15   11.0\n",
              "16    16   11.5\n",
              "17    17   11.2\n",
              "18    18   11.1\n",
              "19    19   11.8\n",
              "20    20   12.9\n",
              "21    21   13.6\n",
              "22    22   14.1\n",
              "23    23   14.9"
            ]
          },
          "metadata": {
            "tags": []
          },
          "execution_count": 6
        }
      ]
    },
    {
      "cell_type": "markdown",
      "metadata": {
        "id": "7Pz3H7Mc1iby",
        "colab_type": "text"
      },
      "source": [
        "##Create a training and evaluation dataset to be used for batch prediction"
      ]
    },
    {
      "cell_type": "code",
      "metadata": {
        "id": "4MThVk8a1im6",
        "colab_type": "code",
        "colab": {
          "base_uri": "https://localhost:8080/",
          "height": 419
        },
        "outputId": "7c015191-784c-424a-96ae-a67d832adb5e"
      },
      "source": [
        "%%bigquery --project tutorial-medium-2020\n",
        "WITH params AS (\n",
        "    SELECT\n",
        "    1 AS TRAIN,\n",
        "    2 AS EVAL\n",
        "    ),\n",
        "  daynames AS\n",
        "    (SELECT ['Sun', 'Mon', 'Tues', 'Wed', 'Thurs', 'Fri', 'Sat'] AS daysofweek),\n",
        "  taxitrips AS (\n",
        "  SELECT\n",
        "    (tolls_amount + fare_amount) AS total_fare,\n",
        "    daysofweek[ORDINAL(EXTRACT(DAYOFWEEK FROM pickup_datetime))] AS dayofweek,\n",
        "    EXTRACT(HOUR FROM pickup_datetime) AS hourofday,\n",
        "    pickup_longitude AS pickuplon,\n",
        "    pickup_latitude AS pickuplat,\n",
        "    dropoff_longitude AS dropofflon,\n",
        "    dropoff_latitude AS dropofflat,\n",
        "    passenger_count AS passengers\n",
        "  FROM\n",
        "    `nyc-tlc.yellow.trips`, daynames, params\n",
        "  WHERE\n",
        "    trip_distance > 0 AND fare_amount > 0\n",
        "    AND MOD(ABS(FARM_FINGERPRINT(CAST(pickup_datetime AS STRING))),1000) = params.TRAIN\n",
        "  )\n",
        "\n",
        "  SELECT *\n",
        "  FROM taxitrips\n"
      ],
      "execution_count": 7,
      "outputs": [
        {
          "output_type": "execute_result",
          "data": {
            "text/html": [
              "<div>\n",
              "<style scoped>\n",
              "    .dataframe tbody tr th:only-of-type {\n",
              "        vertical-align: middle;\n",
              "    }\n",
              "\n",
              "    .dataframe tbody tr th {\n",
              "        vertical-align: top;\n",
              "    }\n",
              "\n",
              "    .dataframe thead th {\n",
              "        text-align: right;\n",
              "    }\n",
              "</style>\n",
              "<table border=\"1\" class=\"dataframe\">\n",
              "  <thead>\n",
              "    <tr style=\"text-align: right;\">\n",
              "      <th></th>\n",
              "      <th>total_fare</th>\n",
              "      <th>dayofweek</th>\n",
              "      <th>hourofday</th>\n",
              "      <th>pickuplon</th>\n",
              "      <th>pickuplat</th>\n",
              "      <th>dropofflon</th>\n",
              "      <th>dropofflat</th>\n",
              "      <th>passengers</th>\n",
              "    </tr>\n",
              "  </thead>\n",
              "  <tbody>\n",
              "    <tr>\n",
              "      <th>0</th>\n",
              "      <td>46.33</td>\n",
              "      <td>Mon</td>\n",
              "      <td>0</td>\n",
              "      <td>-73.865225</td>\n",
              "      <td>40.770845</td>\n",
              "      <td>-74.009762</td>\n",
              "      <td>40.705505</td>\n",
              "      <td>1</td>\n",
              "    </tr>\n",
              "    <tr>\n",
              "      <th>1</th>\n",
              "      <td>18.10</td>\n",
              "      <td>Sat</td>\n",
              "      <td>0</td>\n",
              "      <td>-73.943430</td>\n",
              "      <td>40.815628</td>\n",
              "      <td>-73.904790</td>\n",
              "      <td>40.880418</td>\n",
              "      <td>2</td>\n",
              "    </tr>\n",
              "    <tr>\n",
              "      <th>2</th>\n",
              "      <td>18.90</td>\n",
              "      <td>Fri</td>\n",
              "      <td>0</td>\n",
              "      <td>-73.993182</td>\n",
              "      <td>40.742235</td>\n",
              "      <td>-73.948297</td>\n",
              "      <td>40.801398</td>\n",
              "      <td>1</td>\n",
              "    </tr>\n",
              "    <tr>\n",
              "      <th>3</th>\n",
              "      <td>11.80</td>\n",
              "      <td>Tues</td>\n",
              "      <td>0</td>\n",
              "      <td>-73.995963</td>\n",
              "      <td>40.726475</td>\n",
              "      <td>-73.966875</td>\n",
              "      <td>40.688341</td>\n",
              "      <td>1</td>\n",
              "    </tr>\n",
              "    <tr>\n",
              "      <th>4</th>\n",
              "      <td>15.70</td>\n",
              "      <td>Sat</td>\n",
              "      <td>0</td>\n",
              "      <td>-74.015413</td>\n",
              "      <td>40.706540</td>\n",
              "      <td>-73.991632</td>\n",
              "      <td>40.726781</td>\n",
              "      <td>1</td>\n",
              "    </tr>\n",
              "    <tr>\n",
              "      <th>...</th>\n",
              "      <td>...</td>\n",
              "      <td>...</td>\n",
              "      <td>...</td>\n",
              "      <td>...</td>\n",
              "      <td>...</td>\n",
              "      <td>...</td>\n",
              "      <td>...</td>\n",
              "      <td>...</td>\n",
              "    </tr>\n",
              "    <tr>\n",
              "      <th>1120072</th>\n",
              "      <td>5.70</td>\n",
              "      <td>Tues</td>\n",
              "      <td>23</td>\n",
              "      <td>-74.004260</td>\n",
              "      <td>40.720912</td>\n",
              "      <td>-74.004272</td>\n",
              "      <td>40.733405</td>\n",
              "      <td>5</td>\n",
              "    </tr>\n",
              "    <tr>\n",
              "      <th>1120073</th>\n",
              "      <td>7.70</td>\n",
              "      <td>Tues</td>\n",
              "      <td>23</td>\n",
              "      <td>0.000000</td>\n",
              "      <td>0.000000</td>\n",
              "      <td>0.000000</td>\n",
              "      <td>0.000000</td>\n",
              "      <td>2</td>\n",
              "    </tr>\n",
              "    <tr>\n",
              "      <th>1120074</th>\n",
              "      <td>7.70</td>\n",
              "      <td>Wed</td>\n",
              "      <td>23</td>\n",
              "      <td>-73.972533</td>\n",
              "      <td>40.793249</td>\n",
              "      <td>-73.946604</td>\n",
              "      <td>40.789008</td>\n",
              "      <td>1</td>\n",
              "    </tr>\n",
              "    <tr>\n",
              "      <th>1120075</th>\n",
              "      <td>7.70</td>\n",
              "      <td>Fri</td>\n",
              "      <td>23</td>\n",
              "      <td>-73.974750</td>\n",
              "      <td>40.759292</td>\n",
              "      <td>-73.953147</td>\n",
              "      <td>40.767632</td>\n",
              "      <td>1</td>\n",
              "    </tr>\n",
              "    <tr>\n",
              "      <th>1120076</th>\n",
              "      <td>7.70</td>\n",
              "      <td>Wed</td>\n",
              "      <td>23</td>\n",
              "      <td>-74.006465</td>\n",
              "      <td>40.739513</td>\n",
              "      <td>-73.994572</td>\n",
              "      <td>40.725877</td>\n",
              "      <td>1</td>\n",
              "    </tr>\n",
              "  </tbody>\n",
              "</table>\n",
              "<p>1120077 rows × 8 columns</p>\n",
              "</div>"
            ],
            "text/plain": [
              "         total_fare dayofweek  hourofday  ...  dropofflon  dropofflat  passengers\n",
              "0             46.33       Mon          0  ...  -74.009762   40.705505           1\n",
              "1             18.10       Sat          0  ...  -73.904790   40.880418           2\n",
              "2             18.90       Fri          0  ...  -73.948297   40.801398           1\n",
              "3             11.80      Tues          0  ...  -73.966875   40.688341           1\n",
              "4             15.70       Sat          0  ...  -73.991632   40.726781           1\n",
              "...             ...       ...        ...  ...         ...         ...         ...\n",
              "1120072        5.70      Tues         23  ...  -74.004272   40.733405           5\n",
              "1120073        7.70      Tues         23  ...    0.000000    0.000000           2\n",
              "1120074        7.70       Wed         23  ...  -73.946604   40.789008           1\n",
              "1120075        7.70       Fri         23  ...  -73.953147   40.767632           1\n",
              "1120076        7.70       Wed         23  ...  -73.994572   40.725877           1\n",
              "\n",
              "[1120077 rows x 8 columns]"
            ]
          },
          "metadata": {
            "tags": []
          },
          "execution_count": 7
        }
      ]
    },
    {
      "cell_type": "markdown",
      "metadata": {
        "id": "FkDNdKpI1ixQ",
        "colab_type": "text"
      },
      "source": [
        "##Create a forecasting (linear regression) model in BQML\n"
      ]
    },
    {
      "cell_type": "code",
      "metadata": {
        "id": "wLDDdeO11i7U",
        "colab_type": "code",
        "colab": {
          "base_uri": "https://localhost:8080/",
          "height": 32
        },
        "outputId": "c57ac81d-ebd0-4446-c719-8e4490ef552a"
      },
      "source": [
        "%%bigquery --project tutorial-medium-2020\n",
        "\n",
        "CREATE or REPLACE MODEL taxi.taxifare_model\n",
        "OPTIONS\n",
        "  (model_type='linear_reg', labels=['total_fare']) AS\n",
        "\n",
        "WITH params AS (\n",
        "    SELECT\n",
        "    1 AS TRAIN,\n",
        "    2 AS EVAL\n",
        "    ),\n",
        "\n",
        "  daynames AS\n",
        "    (SELECT ['Sun', 'Mon', 'Tues', 'Wed', 'Thurs', 'Fri', 'Sat'] AS daysofweek),\n",
        "\n",
        "  taxitrips AS (\n",
        "  SELECT\n",
        "    (tolls_amount + fare_amount) AS total_fare,\n",
        "    daysofweek[ORDINAL(EXTRACT(DAYOFWEEK FROM pickup_datetime))] AS dayofweek,\n",
        "  EXTRACT(HOUR FROM pickup_datetime) AS hourofday,\n",
        "    pickup_longitude AS pickuplon,\n",
        "    pickup_latitude AS pickuplat,\n",
        "    dropoff_longitude AS dropofflon,\n",
        "    dropoff_latitude AS dropofflat,\n",
        "    passenger_count AS passengers\n",
        "  FROM\n",
        "    `nyc-tlc.yellow.trips`, daynames, params\n",
        "  WHERE\n",
        "    trip_distance > 0 AND fare_amount > 0\n",
        "    AND MOD(ABS(FARM_FINGERPRINT(CAST(pickup_datetime AS STRING))),1000) = params.TRAIN\n",
        "  )\n",
        "\n",
        "  SELECT *\n",
        "  FROM taxitrips\n",
        "\n"
      ],
      "execution_count": 9,
      "outputs": [
        {
          "output_type": "execute_result",
          "data": {
            "text/html": [
              "<div>\n",
              "<style scoped>\n",
              "    .dataframe tbody tr th:only-of-type {\n",
              "        vertical-align: middle;\n",
              "    }\n",
              "\n",
              "    .dataframe tbody tr th {\n",
              "        vertical-align: top;\n",
              "    }\n",
              "\n",
              "    .dataframe thead th {\n",
              "        text-align: right;\n",
              "    }\n",
              "</style>\n",
              "<table border=\"1\" class=\"dataframe\">\n",
              "  <thead>\n",
              "    <tr style=\"text-align: right;\">\n",
              "      <th></th>\n",
              "    </tr>\n",
              "  </thead>\n",
              "  <tbody>\n",
              "  </tbody>\n",
              "</table>\n",
              "</div>"
            ],
            "text/plain": [
              "Empty DataFrame\n",
              "Columns: []\n",
              "Index: []"
            ]
          },
          "metadata": {
            "tags": []
          },
          "execution_count": 9
        }
      ]
    },
    {
      "cell_type": "markdown",
      "metadata": {
        "id": "iL-P0Yta6DE2",
        "colab_type": "text"
      },
      "source": [
        "##Evaluate the performance of your machine learning model"
      ]
    },
    {
      "cell_type": "code",
      "metadata": {
        "id": "HYh2TUTw6Dhq",
        "colab_type": "code",
        "colab": {
          "base_uri": "https://localhost:8080/",
          "height": 80
        },
        "outputId": "97a1a05d-956a-4deb-9c06-deaeb4465c56"
      },
      "source": [
        "%%bigquery --project tutorial-medium-2020\n",
        "SELECT\n",
        "  SQRT(mean_squared_error) AS rmse\n",
        "FROM\n",
        "  ML.EVALUATE(MODEL taxi.taxifare_model,\n",
        "  (\n",
        "\n",
        "  WITH params AS (\n",
        "    SELECT\n",
        "    1 AS TRAIN,\n",
        "    2 AS EVAL\n",
        "    ),\n",
        "\n",
        "  daynames AS\n",
        "    (SELECT ['Sun', 'Mon', 'Tues', 'Wed', 'Thurs', 'Fri', 'Sat'] AS daysofweek),\n",
        "\n",
        "  taxitrips AS (\n",
        "  SELECT\n",
        "    (tolls_amount + fare_amount) AS total_fare,\n",
        "    daysofweek[ORDINAL(EXTRACT(DAYOFWEEK FROM pickup_datetime))] AS dayofweek,\n",
        "  EXTRACT(HOUR FROM pickup_datetime) AS hourofday,\n",
        "    pickup_longitude AS pickuplon,\n",
        "    pickup_latitude AS pickuplat,\n",
        "    dropoff_longitude AS dropofflon,\n",
        "    dropoff_latitude AS dropofflat,\n",
        "    passenger_count AS passengers\n",
        "  FROM\n",
        "    `nyc-tlc.yellow.trips`, daynames, params\n",
        "  WHERE\n",
        "    trip_distance > 0 AND fare_amount > 0\n",
        "    AND MOD(ABS(FARM_FINGERPRINT(CAST(pickup_datetime AS STRING))),1000) = params.EVAL\n",
        "  )\n",
        "\n",
        "  SELECT *\n",
        "  FROM taxitrips))\n"
      ],
      "execution_count": 10,
      "outputs": [
        {
          "output_type": "execute_result",
          "data": {
            "text/html": [
              "<div>\n",
              "<style scoped>\n",
              "    .dataframe tbody tr th:only-of-type {\n",
              "        vertical-align: middle;\n",
              "    }\n",
              "\n",
              "    .dataframe tbody tr th {\n",
              "        vertical-align: top;\n",
              "    }\n",
              "\n",
              "    .dataframe thead th {\n",
              "        text-align: right;\n",
              "    }\n",
              "</style>\n",
              "<table border=\"1\" class=\"dataframe\">\n",
              "  <thead>\n",
              "    <tr style=\"text-align: right;\">\n",
              "      <th></th>\n",
              "      <th>rmse</th>\n",
              "    </tr>\n",
              "  </thead>\n",
              "  <tbody>\n",
              "    <tr>\n",
              "      <th>0</th>\n",
              "      <td>9.476637</td>\n",
              "    </tr>\n",
              "  </tbody>\n",
              "</table>\n",
              "</div>"
            ],
            "text/plain": [
              "       rmse\n",
              "0  9.476637"
            ]
          },
          "metadata": {
            "tags": []
          },
          "execution_count": 10
        }
      ]
    },
    {
      "cell_type": "markdown",
      "metadata": {
        "id": "GXfmO6KO7Dl2",
        "colab_type": "text"
      },
      "source": [
        "After evaluating your model you get a RMSE of 9.47. Since we took the Root of the Mean Squared Error (RMSE) the 9.47 error can be evaluated in the same units as the total_fare so it's +-$9.47.\n"
      ]
    },
    {
      "cell_type": "markdown",
      "metadata": {
        "id": "DXjQnylL6WVg",
        "colab_type": "text"
      },
      "source": [
        "##Predict taxi fare amount\n"
      ]
    },
    {
      "cell_type": "code",
      "metadata": {
        "id": "MvQROscd6XDr",
        "colab_type": "code",
        "colab": {
          "base_uri": "https://localhost:8080/",
          "height": 419
        },
        "outputId": "338af8ad-6e9a-4ad8-a26c-f1b323ecaa76"
      },
      "source": [
        "%%bigquery --project tutorial-medium-2020\n",
        "SELECT\n",
        "*\n",
        "FROM\n",
        "  ml.PREDICT(MODEL `taxi.taxifare_model`,\n",
        "   (\n",
        "\n",
        " WITH params AS (\n",
        "    SELECT\n",
        "    1 AS TRAIN,\n",
        "    2 AS EVAL\n",
        "    ),\n",
        "\n",
        "  daynames AS\n",
        "    (SELECT ['Sun', 'Mon', 'Tues', 'Wed', 'Thurs', 'Fri', 'Sat'] AS daysofweek),\n",
        "\n",
        "  taxitrips AS (\n",
        "  SELECT\n",
        "    (tolls_amount + fare_amount) AS total_fare,\n",
        "    daysofweek[ORDINAL(EXTRACT(DAYOFWEEK FROM pickup_datetime))] AS dayofweek,\n",
        "  EXTRACT(HOUR FROM pickup_datetime) AS hourofday,\n",
        "    pickup_longitude AS pickuplon,\n",
        "    pickup_latitude AS pickuplat,\n",
        "    dropoff_longitude AS dropofflon,\n",
        "    dropoff_latitude AS dropofflat,\n",
        "    passenger_count AS passengers\n",
        "  FROM\n",
        "    `nyc-tlc.yellow.trips`, daynames, params\n",
        "  WHERE\n",
        "    trip_distance > 0 AND fare_amount > 0\n",
        "    AND MOD(ABS(FARM_FINGERPRINT(CAST(pickup_datetime AS STRING))),1000) = params.EVAL\n",
        "  )\n",
        "\n",
        "  SELECT *\n",
        "  FROM taxitrips\n",
        "\n",
        "));\n"
      ],
      "execution_count": 11,
      "outputs": [
        {
          "output_type": "execute_result",
          "data": {
            "text/html": [
              "<div>\n",
              "<style scoped>\n",
              "    .dataframe tbody tr th:only-of-type {\n",
              "        vertical-align: middle;\n",
              "    }\n",
              "\n",
              "    .dataframe tbody tr th {\n",
              "        vertical-align: top;\n",
              "    }\n",
              "\n",
              "    .dataframe thead th {\n",
              "        text-align: right;\n",
              "    }\n",
              "</style>\n",
              "<table border=\"1\" class=\"dataframe\">\n",
              "  <thead>\n",
              "    <tr style=\"text-align: right;\">\n",
              "      <th></th>\n",
              "      <th>predicted_total_fare</th>\n",
              "      <th>total_fare</th>\n",
              "      <th>dayofweek</th>\n",
              "      <th>hourofday</th>\n",
              "      <th>pickuplon</th>\n",
              "      <th>pickuplat</th>\n",
              "      <th>dropofflon</th>\n",
              "      <th>dropofflat</th>\n",
              "      <th>passengers</th>\n",
              "    </tr>\n",
              "  </thead>\n",
              "  <tbody>\n",
              "    <tr>\n",
              "      <th>0</th>\n",
              "      <td>11.688069</td>\n",
              "      <td>4.0</td>\n",
              "      <td>Sun</td>\n",
              "      <td>0</td>\n",
              "      <td>-73.995217</td>\n",
              "      <td>40.744731</td>\n",
              "      <td>-74.001528</td>\n",
              "      <td>40.739350</td>\n",
              "      <td>1</td>\n",
              "    </tr>\n",
              "    <tr>\n",
              "      <th>1</th>\n",
              "      <td>11.337108</td>\n",
              "      <td>4.5</td>\n",
              "      <td>Sat</td>\n",
              "      <td>0</td>\n",
              "      <td>-73.984926</td>\n",
              "      <td>40.727959</td>\n",
              "      <td>-73.985559</td>\n",
              "      <td>40.721855</td>\n",
              "      <td>2</td>\n",
              "    </tr>\n",
              "    <tr>\n",
              "      <th>2</th>\n",
              "      <td>11.816619</td>\n",
              "      <td>6.5</td>\n",
              "      <td>Mon</td>\n",
              "      <td>0</td>\n",
              "      <td>-73.985145</td>\n",
              "      <td>40.747816</td>\n",
              "      <td>-73.981212</td>\n",
              "      <td>40.762677</td>\n",
              "      <td>3</td>\n",
              "    </tr>\n",
              "    <tr>\n",
              "      <th>3</th>\n",
              "      <td>11.396162</td>\n",
              "      <td>6.5</td>\n",
              "      <td>Tues</td>\n",
              "      <td>0</td>\n",
              "      <td>-73.988154</td>\n",
              "      <td>40.721315</td>\n",
              "      <td>-74.000781</td>\n",
              "      <td>40.729677</td>\n",
              "      <td>1</td>\n",
              "    </tr>\n",
              "    <tr>\n",
              "      <th>4</th>\n",
              "      <td>11.852903</td>\n",
              "      <td>6.5</td>\n",
              "      <td>Tues</td>\n",
              "      <td>0</td>\n",
              "      <td>-74.004803</td>\n",
              "      <td>40.730222</td>\n",
              "      <td>-73.993570</td>\n",
              "      <td>40.713775</td>\n",
              "      <td>5</td>\n",
              "    </tr>\n",
              "    <tr>\n",
              "      <th>...</th>\n",
              "      <td>...</td>\n",
              "      <td>...</td>\n",
              "      <td>...</td>\n",
              "      <td>...</td>\n",
              "      <td>...</td>\n",
              "      <td>...</td>\n",
              "      <td>...</td>\n",
              "      <td>...</td>\n",
              "      <td>...</td>\n",
              "    </tr>\n",
              "    <tr>\n",
              "      <th>1111101</th>\n",
              "      <td>11.111809</td>\n",
              "      <td>5.7</td>\n",
              "      <td>Sun</td>\n",
              "      <td>23</td>\n",
              "      <td>-73.999952</td>\n",
              "      <td>40.743293</td>\n",
              "      <td>-73.998568</td>\n",
              "      <td>40.731720</td>\n",
              "      <td>1</td>\n",
              "    </tr>\n",
              "    <tr>\n",
              "      <th>1111102</th>\n",
              "      <td>11.071862</td>\n",
              "      <td>7.7</td>\n",
              "      <td>Thurs</td>\n",
              "      <td>23</td>\n",
              "      <td>-73.988725</td>\n",
              "      <td>40.722317</td>\n",
              "      <td>-73.993330</td>\n",
              "      <td>40.741452</td>\n",
              "      <td>1</td>\n",
              "    </tr>\n",
              "    <tr>\n",
              "      <th>1111103</th>\n",
              "      <td>10.646699</td>\n",
              "      <td>7.7</td>\n",
              "      <td>Sat</td>\n",
              "      <td>23</td>\n",
              "      <td>-73.967362</td>\n",
              "      <td>40.756584</td>\n",
              "      <td>-73.988532</td>\n",
              "      <td>40.768271</td>\n",
              "      <td>1</td>\n",
              "    </tr>\n",
              "    <tr>\n",
              "      <th>1111104</th>\n",
              "      <td>11.122983</td>\n",
              "      <td>8.9</td>\n",
              "      <td>Fri</td>\n",
              "      <td>23</td>\n",
              "      <td>-73.989663</td>\n",
              "      <td>40.739461</td>\n",
              "      <td>-74.010832</td>\n",
              "      <td>40.722274</td>\n",
              "      <td>1</td>\n",
              "    </tr>\n",
              "    <tr>\n",
              "      <th>1111105</th>\n",
              "      <td>10.926172</td>\n",
              "      <td>8.9</td>\n",
              "      <td>Wed</td>\n",
              "      <td>23</td>\n",
              "      <td>-74.001952</td>\n",
              "      <td>40.740292</td>\n",
              "      <td>-73.972247</td>\n",
              "      <td>40.750392</td>\n",
              "      <td>1</td>\n",
              "    </tr>\n",
              "  </tbody>\n",
              "</table>\n",
              "<p>1111106 rows × 9 columns</p>\n",
              "</div>"
            ],
            "text/plain": [
              "         predicted_total_fare  total_fare  ... dropofflat  passengers\n",
              "0                   11.688069         4.0  ...  40.739350           1\n",
              "1                   11.337108         4.5  ...  40.721855           2\n",
              "2                   11.816619         6.5  ...  40.762677           3\n",
              "3                   11.396162         6.5  ...  40.729677           1\n",
              "4                   11.852903         6.5  ...  40.713775           5\n",
              "...                       ...         ...  ...        ...         ...\n",
              "1111101             11.111809         5.7  ...  40.731720           1\n",
              "1111102             11.071862         7.7  ...  40.741452           1\n",
              "1111103             10.646699         7.7  ...  40.768271           1\n",
              "1111104             11.122983         8.9  ...  40.722274           1\n",
              "1111105             10.926172         8.9  ...  40.750392           1\n",
              "\n",
              "[1111106 rows x 9 columns]"
            ]
          },
          "metadata": {
            "tags": []
          },
          "execution_count": 11
        }
      ]
    },
    {
      "cell_type": "markdown",
      "metadata": {
        "id": "cVU4c5iZ6X--",
        "colab_type": "text"
      },
      "source": [
        "##Improving the model with Feature Engineering\n",
        "Filtering the training dataset. \n",
        "Check on the lowest and the highest fare. Notice that the highest fare is over $50,000.\n"
      ]
    },
    {
      "cell_type": "code",
      "metadata": {
        "id": "x9LBckXw6YQM",
        "colab_type": "code",
        "colab": {
          "base_uri": "https://localhost:8080/",
          "height": 80
        },
        "outputId": "817a8641-3e46-469a-cc0a-6aeb51cb4ae9"
      },
      "source": [
        "%%bigquery --project tutorial-medium-2020\n",
        "SELECT\n",
        "  COUNT(fare_amount) AS num_fares,\n",
        "  MIN(fare_amount) AS low_fare,\n",
        "  MAX(fare_amount) AS high_fare,\n",
        "  AVG(fare_amount) AS avg_fare,\n",
        "  STDDEV(fare_amount) AS stddev\n",
        "FROM\n",
        "`nyc-tlc.yellow.trips`\n",
        "# 1,108,779,463 fares\n"
      ],
      "execution_count": 12,
      "outputs": [
        {
          "output_type": "execute_result",
          "data": {
            "text/html": [
              "<div>\n",
              "<style scoped>\n",
              "    .dataframe tbody tr th:only-of-type {\n",
              "        vertical-align: middle;\n",
              "    }\n",
              "\n",
              "    .dataframe tbody tr th {\n",
              "        vertical-align: top;\n",
              "    }\n",
              "\n",
              "    .dataframe thead th {\n",
              "        text-align: right;\n",
              "    }\n",
              "</style>\n",
              "<table border=\"1\" class=\"dataframe\">\n",
              "  <thead>\n",
              "    <tr style=\"text-align: right;\">\n",
              "      <th></th>\n",
              "      <th>num_fares</th>\n",
              "      <th>low_fare</th>\n",
              "      <th>high_fare</th>\n",
              "      <th>avg_fare</th>\n",
              "      <th>stddev</th>\n",
              "    </tr>\n",
              "  </thead>\n",
              "  <tbody>\n",
              "    <tr>\n",
              "      <th>0</th>\n",
              "      <td>1108779463</td>\n",
              "      <td>-21474808.0</td>\n",
              "      <td>503325.53</td>\n",
              "      <td>11.105719</td>\n",
              "      <td>650.44458</td>\n",
              "    </tr>\n",
              "  </tbody>\n",
              "</table>\n",
              "</div>"
            ],
            "text/plain": [
              "    num_fares    low_fare  high_fare   avg_fare     stddev\n",
              "0  1108779463 -21474808.0  503325.53  11.105719  650.44458"
            ]
          },
          "metadata": {
            "tags": []
          },
          "execution_count": 12
        }
      ]
    },
    {
      "cell_type": "markdown",
      "metadata": {
        "id": "DE9tJQbe6Yz6",
        "colab_type": "text"
      },
      "source": [
        "Filtering the training dataset. \n",
        "Limit the data from $$6 to $200. Yet we still have 800 million rides for our model to learn from"
      ]
    },
    {
      "cell_type": "code",
      "metadata": {
        "id": "sbXakcIA6Y-t",
        "colab_type": "code",
        "colab": {
          "base_uri": "https://localhost:8080/",
          "height": 80
        },
        "outputId": "248219ed-3c9b-48f4-bf0c-751e531b046f"
      },
      "source": [
        "%%bigquery --project tutorial-medium-2020\n",
        "SELECT\n",
        "  COUNT(fare_amount) AS num_fares,\n",
        "  MIN(fare_amount) AS low_fare,\n",
        "  MAX(fare_amount) AS high_fare,\n",
        "  AVG(fare_amount) AS avg_fare,\n",
        "  STDDEV(fare_amount) AS stddev\n",
        "FROM\n",
        "`nyc-tlc.yellow.trips`\n",
        "WHERE trip_distance > 0 AND fare_amount BETWEEN 6 and 200\n",
        "# 843,834,902 fares\n"
      ],
      "execution_count": 13,
      "outputs": [
        {
          "output_type": "execute_result",
          "data": {
            "text/html": [
              "<div>\n",
              "<style scoped>\n",
              "    .dataframe tbody tr th:only-of-type {\n",
              "        vertical-align: middle;\n",
              "    }\n",
              "\n",
              "    .dataframe tbody tr th {\n",
              "        vertical-align: top;\n",
              "    }\n",
              "\n",
              "    .dataframe thead th {\n",
              "        text-align: right;\n",
              "    }\n",
              "</style>\n",
              "<table border=\"1\" class=\"dataframe\">\n",
              "  <thead>\n",
              "    <tr style=\"text-align: right;\">\n",
              "      <th></th>\n",
              "      <th>num_fares</th>\n",
              "      <th>low_fare</th>\n",
              "      <th>high_fare</th>\n",
              "      <th>avg_fare</th>\n",
              "      <th>stddev</th>\n",
              "    </tr>\n",
              "  </thead>\n",
              "  <tbody>\n",
              "    <tr>\n",
              "      <th>0</th>\n",
              "      <td>843834902</td>\n",
              "      <td>6.0</td>\n",
              "      <td>200.0</td>\n",
              "      <td>12.992424</td>\n",
              "      <td>9.152008</td>\n",
              "    </tr>\n",
              "  </tbody>\n",
              "</table>\n",
              "</div>"
            ],
            "text/plain": [
              "   num_fares  low_fare  high_fare   avg_fare    stddev\n",
              "0  843834902       6.0      200.0  12.992424  9.152008"
            ]
          },
          "metadata": {
            "tags": []
          },
          "execution_count": 13
        }
      ]
    },
    {
      "cell_type": "markdown",
      "metadata": {
        "id": "mmSoZYlI9dMK",
        "colab_type": "text"
      },
      "source": [
        "Filtering the training dataset. \n",
        "While you're at, let's limit the distance traveled so you're really focusing on New York City.\n"
      ]
    },
    {
      "cell_type": "code",
      "metadata": {
        "id": "W9P8GfYI9dh5",
        "colab_type": "code",
        "colab": {
          "base_uri": "https://localhost:8080/",
          "height": 80
        },
        "outputId": "4735fb2c-e0be-4370-8359-c7979b366410"
      },
      "source": [
        "%%bigquery --project tutorial-medium-2020\n",
        "SELECT\n",
        "  COUNT(fare_amount) AS num_fares,\n",
        "  MIN(fare_amount) AS low_fare,\n",
        "  MAX(fare_amount) AS high_fare,\n",
        "  AVG(fare_amount) AS avg_fare,\n",
        "  STDDEV(fare_amount) AS stddev\n",
        "FROM\n",
        "`nyc-tlc.yellow.trips`\n",
        "WHERE trip_distance > 0 AND fare_amount BETWEEN 6 and 200\n",
        "    AND pickup_longitude > -75 #limiting of the distance the taxis travel out\n",
        "    AND pickup_longitude < -73\n",
        "    AND dropoff_longitude > -75\n",
        "    AND dropoff_longitude < -73\n",
        "    AND pickup_latitude > 40\n",
        "    AND pickup_latitude < 42\n",
        "    AND dropoff_latitude > 40\n",
        "    AND dropoff_latitude < 42\n",
        "    # 827,365,869 fares\n",
        "\n"
      ],
      "execution_count": 14,
      "outputs": [
        {
          "output_type": "execute_result",
          "data": {
            "text/html": [
              "<div>\n",
              "<style scoped>\n",
              "    .dataframe tbody tr th:only-of-type {\n",
              "        vertical-align: middle;\n",
              "    }\n",
              "\n",
              "    .dataframe tbody tr th {\n",
              "        vertical-align: top;\n",
              "    }\n",
              "\n",
              "    .dataframe thead th {\n",
              "        text-align: right;\n",
              "    }\n",
              "</style>\n",
              "<table border=\"1\" class=\"dataframe\">\n",
              "  <thead>\n",
              "    <tr style=\"text-align: right;\">\n",
              "      <th></th>\n",
              "      <th>num_fares</th>\n",
              "      <th>low_fare</th>\n",
              "      <th>high_fare</th>\n",
              "      <th>avg_fare</th>\n",
              "      <th>stddev</th>\n",
              "    </tr>\n",
              "  </thead>\n",
              "  <tbody>\n",
              "    <tr>\n",
              "      <th>0</th>\n",
              "      <td>827365869</td>\n",
              "      <td>6.0</td>\n",
              "      <td>200.0</td>\n",
              "      <td>12.989136</td>\n",
              "      <td>9.139808</td>\n",
              "    </tr>\n",
              "  </tbody>\n",
              "</table>\n",
              "</div>"
            ],
            "text/plain": [
              "   num_fares  low_fare  high_fare   avg_fare    stddev\n",
              "0  827365869       6.0      200.0  12.989136  9.139808"
            ]
          },
          "metadata": {
            "tags": []
          },
          "execution_count": 14
        }
      ]
    },
    {
      "cell_type": "markdown",
      "metadata": {
        "id": "54f6-3-H9d1u",
        "colab_type": "text"
      },
      "source": [
        "Retraining the model"
      ]
    },
    {
      "cell_type": "code",
      "metadata": {
        "id": "KRjuPhTy9eF6",
        "colab_type": "code",
        "colab": {
          "base_uri": "https://localhost:8080/",
          "height": 32
        },
        "outputId": "6e66e20c-d9f9-4401-dd21-2a896712a544"
      },
      "source": [
        "%%bigquery --project tutorial-medium-2020\n",
        "CREATE OR REPLACE MODEL taxi.taxifare_model_2\n",
        "OPTIONS\n",
        "  (model_type='linear_reg', labels=['total_fare']) AS\n",
        "WITH params AS (\n",
        "    SELECT\n",
        "    1 AS TRAIN,\n",
        "    2 AS EVAL\n",
        "    ),\n",
        "  daynames AS\n",
        "    (SELECT ['Sun', 'Mon', 'Tues', 'Wed', 'Thurs', 'Fri', 'Sat'] AS daysofweek),\n",
        "  taxitrips AS (\n",
        "  SELECT\n",
        "    (tolls_amount + fare_amount) AS total_fare,\n",
        "    daysofweek[ORDINAL(EXTRACT(DAYOFWEEK FROM pickup_datetime))] AS dayofweek,\n",
        "    EXTRACT(HOUR FROM pickup_datetime) AS hourofday,\n",
        "    SQRT(POW((pickup_longitude - dropoff_longitude),2) + POW(( pickup_latitude - dropoff_latitude), 2)) as dist, #Euclidean distance between pickup and drop off\n",
        "    SQRT(POW((pickup_longitude - dropoff_longitude),2)) as longitude, #Euclidean distance between pickup and drop off in longitude\n",
        "    SQRT(POW((pickup_latitude - dropoff_latitude), 2)) as latitude, #Euclidean distance between pickup and drop off in latitude\n",
        "    passenger_count AS passengers\n",
        "  FROM\n",
        "    `nyc-tlc.yellow.trips`, daynames, params\n",
        "  WHERE trip_distance > 0 AND fare_amount BETWEEN 6 and 200\n",
        "    AND pickup_longitude > -75 #limiting of the distance the taxis travel out\n",
        "    AND pickup_longitude < -73\n",
        "    AND dropoff_longitude > -75\n",
        "    AND dropoff_longitude < -73\n",
        "    AND pickup_latitude > 40\n",
        "    AND pickup_latitude < 42\n",
        "    AND dropoff_latitude > 40\n",
        "    AND dropoff_latitude < 42\n",
        "    AND MOD(ABS(FARM_FINGERPRINT(CAST(pickup_datetime AS STRING))),1000) = params.TRAIN\n",
        "  )\n",
        " SELECT *\n",
        "  FROM taxitrips\n",
        "\n"
      ],
      "execution_count": 16,
      "outputs": [
        {
          "output_type": "execute_result",
          "data": {
            "text/html": [
              "<div>\n",
              "<style scoped>\n",
              "    .dataframe tbody tr th:only-of-type {\n",
              "        vertical-align: middle;\n",
              "    }\n",
              "\n",
              "    .dataframe tbody tr th {\n",
              "        vertical-align: top;\n",
              "    }\n",
              "\n",
              "    .dataframe thead th {\n",
              "        text-align: right;\n",
              "    }\n",
              "</style>\n",
              "<table border=\"1\" class=\"dataframe\">\n",
              "  <thead>\n",
              "    <tr style=\"text-align: right;\">\n",
              "      <th></th>\n",
              "    </tr>\n",
              "  </thead>\n",
              "  <tbody>\n",
              "  </tbody>\n",
              "</table>\n",
              "</div>"
            ],
            "text/plain": [
              "Empty DataFrame\n",
              "Columns: []\n",
              "Index: []"
            ]
          },
          "metadata": {
            "tags": []
          },
          "execution_count": 16
        }
      ]
    },
    {
      "cell_type": "markdown",
      "metadata": {
        "id": "9gmOHeoz9eUL",
        "colab_type": "text"
      },
      "source": [
        "Evaluate the new model\n"
      ]
    },
    {
      "cell_type": "code",
      "metadata": {
        "id": "aaH2Wizn9ef7",
        "colab_type": "code",
        "colab": {
          "base_uri": "https://localhost:8080/",
          "height": 80
        },
        "outputId": "068fc5ea-2ab4-40c4-fdf3-ec3f6898dfdb"
      },
      "source": [
        "%%bigquery --project tutorial-medium-2020\n",
        "SELECT\n",
        "  SQRT(mean_squared_error) AS rmse\n",
        "FROM\n",
        "  ML.EVALUATE(MODEL taxi.taxifare_model_2,\n",
        "  (\n",
        "  WITH params AS (\n",
        "    SELECT\n",
        "    1 AS TRAIN,\n",
        "    2 AS EVAL\n",
        "    ),\n",
        "  daynames AS\n",
        "    (SELECT ['Sun', 'Mon', 'Tues', 'Wed', 'Thurs', 'Fri', 'Sat'] AS daysofweek),\n",
        "  taxitrips AS (\n",
        "  SELECT\n",
        "    (tolls_amount + fare_amount) AS total_fare,\n",
        "    daysofweek[ORDINAL(EXTRACT(DAYOFWEEK FROM pickup_datetime))] AS dayofweek,\n",
        "    EXTRACT(HOUR FROM pickup_datetime) AS hourofday,\n",
        "    SQRT(POW((pickup_longitude - dropoff_longitude),2) + POW(( pickup_latitude - dropoff_latitude), 2)) as dist, #Euclidean distance between pickup and drop off\n",
        "    SQRT(POW((pickup_longitude - dropoff_longitude),2)) as longitude, #Euclidean distance between pickup and drop off in longitude\n",
        "    SQRT(POW((pickup_latitude - dropoff_latitude), 2)) as latitude, #Euclidean distance between pickup and drop off in latitude\n",
        "    passenger_count AS passengers\n",
        "  FROM\n",
        "    `nyc-tlc.yellow.trips`, daynames, params\n",
        "  WHERE trip_distance > 0 AND fare_amount BETWEEN 6 and 200\n",
        "    AND pickup_longitude > -75 #limiting of the distance the taxis travel out\n",
        "    AND pickup_longitude < -73\n",
        "    AND dropoff_longitude > -75\n",
        "    AND dropoff_longitude < -73\n",
        "    AND pickup_latitude > 40\n",
        "    AND pickup_latitude < 42\n",
        "    AND dropoff_latitude > 40\n",
        "    AND dropoff_latitude < 42\n",
        "    AND MOD(ABS(FARM_FINGERPRINT(CAST(pickup_datetime AS STRING))),1000) = params.EVAL\n",
        "  )\n",
        "  SELECT *\n",
        "  FROM taxitrips))\n",
        "\n"
      ],
      "execution_count": 17,
      "outputs": [
        {
          "output_type": "execute_result",
          "data": {
            "text/html": [
              "<div>\n",
              "<style scoped>\n",
              "    .dataframe tbody tr th:only-of-type {\n",
              "        vertical-align: middle;\n",
              "    }\n",
              "\n",
              "    .dataframe tbody tr th {\n",
              "        vertical-align: top;\n",
              "    }\n",
              "\n",
              "    .dataframe thead th {\n",
              "        text-align: right;\n",
              "    }\n",
              "</style>\n",
              "<table border=\"1\" class=\"dataframe\">\n",
              "  <thead>\n",
              "    <tr style=\"text-align: right;\">\n",
              "      <th></th>\n",
              "      <th>rmse</th>\n",
              "    </tr>\n",
              "  </thead>\n",
              "  <tbody>\n",
              "    <tr>\n",
              "      <th>0</th>\n",
              "      <td>5.124653</td>\n",
              "    </tr>\n",
              "  </tbody>\n",
              "</table>\n",
              "</div>"
            ],
            "text/plain": [
              "       rmse\n",
              "0  5.124653"
            ]
          },
          "metadata": {
            "tags": []
          },
          "execution_count": 17
        }
      ]
    },
    {
      "cell_type": "markdown",
      "metadata": {
        "id": "nDv8DEyGGIqn",
        "colab_type": "text"
      },
      "source": [
        "As you see, you've now gotten the RMSE down to: +-$$5.12 which is significantly better than +-$9.47 for your first model.\n",
        "Since RSME defines the standard deviation of prediction errors, we see that the retrained linear regression made our model a lot more accurate.\n"
      ]
    }
  ]
}