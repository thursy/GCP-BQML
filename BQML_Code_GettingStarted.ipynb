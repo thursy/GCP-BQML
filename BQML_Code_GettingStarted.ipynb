{
  "nbformat": 4,
  "nbformat_minor": 0,
  "metadata": {
    "colab": {
      "name": "BQML_Code_GettingStarted.ipynb",
      "provenance": [],
      "toc_visible": true,
      "authorship_tag": "ABX9TyOPw1dX6l0e6PpG42XNBTP9",
      "include_colab_link": true
    },
    "kernelspec": {
      "name": "python3",
      "display_name": "Python 3"
    }
  },
  "cells": [
    {
      "cell_type": "markdown",
      "metadata": {
        "id": "view-in-github",
        "colab_type": "text"
      },
      "source": [
        "<a href=\"https://colab.research.google.com/github/thursy/GCP-BQML/blob/master/BQML_Code_GettingStarted.ipynb\" target=\"_parent\"><img src=\"https://colab.research.google.com/assets/colab-badge.svg\" alt=\"Open In Colab\"/></a>"
      ]
    },
    {
      "cell_type": "markdown",
      "metadata": {
        "id": "5Ma7el4QltBO",
        "colab_type": "text"
      },
      "source": [
        "# BigQuery Machine Learning"
      ]
    },
    {
      "cell_type": "markdown",
      "metadata": {
        "id": "6M7AbGa2l2C2",
        "colab_type": "text"
      },
      "source": [
        "In this tutorial, you use the sample Google Analytics sample dataset for BigQuery to create a model that predicts whether a website visitor will make a transaction.\n",
        "In this tutorial, you use:\n",
        " \n",
        "\n",
        "*   BigQuery ML to create a binary logistic regression model using the CREATE MODEL statement\n",
        "*   The ML.EVALUATE function to evaluate the ML model\n",
        "*   The ML.PREDICT function to make predictions using the ML model\n",
        "\n",
        "\n",
        "\n",
        "\n"
      ]
    },
    {
      "cell_type": "markdown",
      "metadata": {
        "id": "H4SQu1bsm3K6",
        "colab_type": "text"
      },
      "source": [
        "###In case using Google Colab, user Authentication is needed by running the code below"
      ]
    },
    {
      "cell_type": "code",
      "metadata": {
        "id": "pA85pGTjfoNw",
        "colab_type": "code",
        "colab": {}
      },
      "source": [
        "from google.colab import auth\n",
        "auth.authenticate_user()"
      ],
      "execution_count": 0,
      "outputs": []
    },
    {
      "cell_type": "markdown",
      "metadata": {
        "id": "favRS0QqpzU3",
        "colab_type": "text"
      },
      "source": [
        "After making a project and enable the API, here are the steps to do Machine Learning using BigQuery\n",
        "\n",
        "* Step one: Create your dataset\n",
        "* Step two: Create your model\n",
        "* Step three: Run and get training statistics\n",
        "* Step four: Evaluate your model\n",
        "* Step five: Use your model to predict outcomes\n"
      ]
    },
    {
      "cell_type": "markdown",
      "metadata": {
        "id": "FbOVpKRjnV44",
        "colab_type": "text"
      },
      "source": [
        "###Please provide the project Id and dataset for this tutorial purpose. Verify the availabe dataset here"
      ]
    },
    {
      "cell_type": "code",
      "metadata": {
        "id": "FnSBTHPwfoL5",
        "colab_type": "code",
        "colab": {
          "base_uri": "https://localhost:8080/",
          "height": 34
        },
        "outputId": "656495d9-b51b-4995-af61-ab01d0a0dea2"
      },
      "source": [
        "from google.cloud import bigquery\n",
        "\n",
        "# https://cloud.google.com/resource-manager/docs/creating-managing-projects\n",
        "project_id = \"tutorial-medium-2020\"\n",
        "client = bigquery.Client(project=project_id)\n",
        "\n",
        "for dataset in client.list_datasets():\n",
        "  print(dataset.dataset_id)"
      ],
      "execution_count": 20,
      "outputs": [
        {
          "output_type": "stream",
          "text": [
            "bqml_tutorial\n"
          ],
          "name": "stdout"
        }
      ]
    },
    {
      "cell_type": "markdown",
      "metadata": {
        "id": "TLRJ6jWnn5TF",
        "colab_type": "text"
      },
      "source": [
        "###Run the cell below to create a model \n",
        " * In the first line change the project Id with your project name\n",
        " * In the second line change the dataset the model name"
      ]
    },
    {
      "cell_type": "code",
      "metadata": {
        "id": "oN_D1g2Ke82N",
        "colab_type": "code",
        "colab": {}
      },
      "source": [
        "%%bigquery --project tutorial-medium-2020 df\n",
        "CREATE MODEL `bqml_tutorial.sample_model`\n",
        "OPTIONS(model_type='logistic_reg') AS\n",
        "SELECT\n",
        "  IF(totals.transactions IS NULL, 0, 1) AS label,\n",
        "  IFNULL(device.operatingSystem, \"\") AS os,\n",
        "  device.isMobile AS is_mobile,\n",
        "  IFNULL(geoNetwork.country, \"\") AS country,\n",
        "  IFNULL(totals.pageviews, 0) AS pageviews\n",
        "FROM\n",
        "  `bigquery-public-data.google_analytics_sample.ga_sessions_*`\n",
        "WHERE\n",
        "  _TABLE_SUFFIX BETWEEN '20160801' AND '20170630'"
      ],
      "execution_count": 0,
      "outputs": []
    },
    {
      "cell_type": "markdown",
      "metadata": {
        "id": "3taDJgy1fToN",
        "colab_type": "text"
      },
      "source": [
        "###Run the following cell to Evaluate the model \n"
      ]
    },
    {
      "cell_type": "code",
      "metadata": {
        "id": "sPGXb7KsrrvM",
        "colab_type": "code",
        "colab": {
          "base_uri": "https://localhost:8080/",
          "height": 80
        },
        "outputId": "3534ce30-0f17-4a0a-fad8-7e5acca48f98"
      },
      "source": [
        "%%bigquery --project tutorial-medium-2020\n",
        "SELECT\n",
        "  *\n",
        "FROM\n",
        "  ML.EVALUATE(MODEL `bqml_tutorial.sample_model`, (\n",
        "SELECT\n",
        "  IF(totals.transactions IS NULL, 0, 1) AS label,\n",
        "  IFNULL(device.operatingSystem, \"\") AS os,\n",
        "  device.isMobile AS is_mobile,\n",
        "  IFNULL(geoNetwork.country, \"\") AS country,\n",
        "  IFNULL(totals.pageviews, 0) AS pageviews\n",
        "FROM\n",
        "`bigquery-public-data.google_analytics_sample.ga_sessions_*`\n",
        "WHERE\n",
        "  _TABLE_SUFFIX BETWEEN '20170701' AND '20170801'))\n"
      ],
      "execution_count": 25,
      "outputs": [
        {
          "output_type": "execute_result",
          "data": {
            "text/html": [
              "<div>\n",
              "<style scoped>\n",
              "    .dataframe tbody tr th:only-of-type {\n",
              "        vertical-align: middle;\n",
              "    }\n",
              "\n",
              "    .dataframe tbody tr th {\n",
              "        vertical-align: top;\n",
              "    }\n",
              "\n",
              "    .dataframe thead th {\n",
              "        text-align: right;\n",
              "    }\n",
              "</style>\n",
              "<table border=\"1\" class=\"dataframe\">\n",
              "  <thead>\n",
              "    <tr style=\"text-align: right;\">\n",
              "      <th></th>\n",
              "      <th>precision</th>\n",
              "      <th>recall</th>\n",
              "      <th>accuracy</th>\n",
              "      <th>f1_score</th>\n",
              "      <th>log_loss</th>\n",
              "      <th>roc_auc</th>\n",
              "    </tr>\n",
              "  </thead>\n",
              "  <tbody>\n",
              "    <tr>\n",
              "      <th>0</th>\n",
              "      <td>0.468504</td>\n",
              "      <td>0.110801</td>\n",
              "      <td>0.985343</td>\n",
              "      <td>0.179217</td>\n",
              "      <td>0.046242</td>\n",
              "      <td>0.982727</td>\n",
              "    </tr>\n",
              "  </tbody>\n",
              "</table>\n",
              "</div>"
            ],
            "text/plain": [
              "   precision    recall  accuracy  f1_score  log_loss   roc_auc\n",
              "0   0.468504  0.110801  0.985343  0.179217  0.046242  0.982727"
            ]
          },
          "metadata": {
            "tags": []
          },
          "execution_count": 25
        }
      ]
    },
    {
      "cell_type": "markdown",
      "metadata": {
        "id": "gitC3i1drx5v",
        "colab_type": "text"
      },
      "source": [
        "###Prediction"
      ]
    },
    {
      "cell_type": "code",
      "metadata": {
        "id": "QEkp5gNlr1GV",
        "colab_type": "code",
        "colab": {
          "base_uri": "https://localhost:8080/",
          "height": 359
        },
        "outputId": "bc3cc245-b5ee-4286-b874-f0e86f8bba85"
      },
      "source": [
        "%%bigquery --project tutorial-medium-2020\n",
        "SELECT\n",
        "  country,\n",
        "  SUM(predicted_label) as total_predicted_purchases\n",
        "FROM ML.PREDICT(MODEL `bqml_tutorial.sample_model`, (\n",
        "SELECT\n",
        "  IFNULL(device.operatingSystem, \"\") AS os,\n",
        "  device.isMobile AS is_mobile,\n",
        "  IFNULL(totals.pageviews, 0) AS pageviews,\n",
        "  IFNULL(geoNetwork.country, \"\") AS country\n",
        "FROM\n",
        "`bigquery-public-data.google_analytics_sample.ga_sessions_*`\n",
        "WHERE\n",
        "  _TABLE_SUFFIX BETWEEN '20170701' AND '20170801'))\n",
        "GROUP BY country\n",
        "ORDER BY total_predicted_purchases DESC\n",
        "LIMIT 10\n"
      ],
      "execution_count": 26,
      "outputs": [
        {
          "output_type": "execute_result",
          "data": {
            "text/html": [
              "<div>\n",
              "<style scoped>\n",
              "    .dataframe tbody tr th:only-of-type {\n",
              "        vertical-align: middle;\n",
              "    }\n",
              "\n",
              "    .dataframe tbody tr th {\n",
              "        vertical-align: top;\n",
              "    }\n",
              "\n",
              "    .dataframe thead th {\n",
              "        text-align: right;\n",
              "    }\n",
              "</style>\n",
              "<table border=\"1\" class=\"dataframe\">\n",
              "  <thead>\n",
              "    <tr style=\"text-align: right;\">\n",
              "      <th></th>\n",
              "      <th>country</th>\n",
              "      <th>total_predicted_purchases</th>\n",
              "    </tr>\n",
              "  </thead>\n",
              "  <tbody>\n",
              "    <tr>\n",
              "      <th>0</th>\n",
              "      <td>United States</td>\n",
              "      <td>220</td>\n",
              "    </tr>\n",
              "    <tr>\n",
              "      <th>1</th>\n",
              "      <td>Taiwan</td>\n",
              "      <td>8</td>\n",
              "    </tr>\n",
              "    <tr>\n",
              "      <th>2</th>\n",
              "      <td>Canada</td>\n",
              "      <td>7</td>\n",
              "    </tr>\n",
              "    <tr>\n",
              "      <th>3</th>\n",
              "      <td>India</td>\n",
              "      <td>2</td>\n",
              "    </tr>\n",
              "    <tr>\n",
              "      <th>4</th>\n",
              "      <td>Turkey</td>\n",
              "      <td>2</td>\n",
              "    </tr>\n",
              "    <tr>\n",
              "      <th>5</th>\n",
              "      <td>Japan</td>\n",
              "      <td>2</td>\n",
              "    </tr>\n",
              "    <tr>\n",
              "      <th>6</th>\n",
              "      <td>Australia</td>\n",
              "      <td>1</td>\n",
              "    </tr>\n",
              "    <tr>\n",
              "      <th>7</th>\n",
              "      <td>Guyana</td>\n",
              "      <td>1</td>\n",
              "    </tr>\n",
              "    <tr>\n",
              "      <th>8</th>\n",
              "      <td>St. Lucia</td>\n",
              "      <td>1</td>\n",
              "    </tr>\n",
              "    <tr>\n",
              "      <th>9</th>\n",
              "      <td>Thailand</td>\n",
              "      <td>1</td>\n",
              "    </tr>\n",
              "  </tbody>\n",
              "</table>\n",
              "</div>"
            ],
            "text/plain": [
              "         country  total_predicted_purchases\n",
              "0  United States                        220\n",
              "1         Taiwan                          8\n",
              "2         Canada                          7\n",
              "3          India                          2\n",
              "4         Turkey                          2\n",
              "5          Japan                          2\n",
              "6      Australia                          1\n",
              "7         Guyana                          1\n",
              "8      St. Lucia                          1\n",
              "9       Thailand                          1"
            ]
          },
          "metadata": {
            "tags": []
          },
          "execution_count": 26
        }
      ]
    }
  ]
}